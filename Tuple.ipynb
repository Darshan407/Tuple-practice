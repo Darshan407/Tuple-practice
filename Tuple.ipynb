{
 "cells": [
  {
   "cell_type": "markdown",
   "metadata": {
    "id": "6BrA-4Y0uj1t"
   },
   "source": [
    "[Slide No- 39]\n",
    "\n",
    "1. Create empty tuple and check its Data type."
   ]
  },
  {
   "cell_type": "code",
   "execution_count": 1,
   "metadata": {
    "colab": {
     "base_uri": "https://localhost:8080/"
    },
    "executionInfo": {
     "elapsed": 12,
     "status": "ok",
     "timestamp": 1624108491100,
     "user": {
      "displayName": "sai darshini",
      "photoUrl": "",
      "userId": "15530230778984429889"
     },
     "user_tz": -330
    },
    "id": "EFzfOlfre9KM",
    "outputId": "3a8d71c1-47e7-42ff-c9c0-64527848dbe3"
   },
   "outputs": [
    {
     "name": "stdout",
     "output_type": "stream",
     "text": [
      "<class 'tuple'>\n"
     ]
    }
   ],
   "source": [
    "d1=()\n",
    "print(type(d1))\n"
   ]
  },
  {
   "cell_type": "markdown",
   "metadata": {
    "id": "0yF34ew-rA8r"
   },
   "source": [
    "**[Slide No. - 39]**\n",
    "\n",
    "\n",
    "\n",
    "2. Check the output : \n",
    "T1 = (101, \"Peter\", 22)    \n",
    "\n",
    "T2 = (\"Apple\", \"Banana\", \"Orange\") \n",
    "\n",
    "T3 = (10,20,30,40,50)  \n",
    "\n",
    "Print Data type of each tuple."
   ]
  },
  {
   "cell_type": "code",
   "execution_count": null,
   "metadata": {
    "colab": {
     "base_uri": "https://localhost:8080/"
    },
    "executionInfo": {
     "elapsed": 378,
     "status": "ok",
     "timestamp": 1624108613026,
     "user": {
      "displayName": "sai darshini",
      "photoUrl": "",
      "userId": "15530230778984429889"
     },
     "user_tz": -330
    },
    "id": "osF6Ro0Je9g7",
    "outputId": "00ea7cc9-0123-4f71-8fb5-935a3ef2ed72"
   },
   "outputs": [
    {
     "data": {
      "text/plain": [
       "[tuple, tuple, tuple]"
      ]
     },
     "execution_count": 6,
     "metadata": {
      "tags": []
     },
     "output_type": "execute_result"
    }
   ],
   "source": [
    "T1 = (101, \"Peter\", 22)\n",
    "T2 = (\"Apple\", \"Banana\", \"Orange\")\n",
    "T3 = (10,20,30,40,50)\n",
    "list=[type(T1),type(T2),type(T3)]\n",
    "list\n",
    "\n"
   ]
  },
  {
   "cell_type": "markdown",
   "metadata": {
    "id": "ghTaF2EmrBCJ"
   },
   "source": [
    "**[Slide No. - 40]**\n",
    "\n",
    "3.Write the program to print 0 index item of tuple .\n",
    "\n",
    "tup = (1,2,3,4,5,6,7)\n",
    "\n"
   ]
  },
  {
   "cell_type": "code",
   "execution_count": null,
   "metadata": {
    "colab": {
     "base_uri": "https://localhost:8080/"
    },
    "executionInfo": {
     "elapsed": 384,
     "status": "ok",
     "timestamp": 1624108864709,
     "user": {
      "displayName": "sai darshini",
      "photoUrl": "",
      "userId": "15530230778984429889"
     },
     "user_tz": -330
    },
    "id": "3jJBczMne-G7",
    "outputId": "ef45b41c-7abd-438b-c414-c19df08b63b3"
   },
   "outputs": [
    {
     "data": {
      "text/plain": [
       "1"
      ]
     },
     "execution_count": 21,
     "metadata": {
      "tags": []
     },
     "output_type": "execute_result"
    }
   ],
   "source": [
    "tup = (1,2,3,4,5,6,7)\n",
    "tup[0]"
   ]
  },
  {
   "cell_type": "markdown",
   "metadata": {
    "id": "aZ_qeqMHrBE2"
   },
   "source": [
    "**[Slide No. - 40]**\n",
    "\n",
    "4.  What is the output of the program  \n",
    "\n",
    "tup = (1,2,3,4,5,6,7)\n",
    "\n",
    "print(tup[8])  "
   ]
  },
  {
   "cell_type": "code",
   "execution_count": 3,
   "metadata": {
    "id": "3LsWZNpJe-sr"
   },
   "outputs": [
    {
     "name": "stdout",
     "output_type": "stream",
     "text": [
      "10\n"
     ]
    }
   ],
   "source": [
    "tup = (1,2,3,4,5,6,7,9,10,11,12)\n",
    "print(tup[8])"
   ]
  },
  {
   "cell_type": "markdown",
   "metadata": {
    "id": "aROdqHSPrBHM"
   },
   "source": [
    "**[Slide No. 40]**\n",
    "\n",
    "5.  Write a program to concate two tuple."
   ]
  },
  {
   "cell_type": "code",
   "execution_count": 4,
   "metadata": {
    "colab": {
     "base_uri": "https://localhost:8080/"
    },
    "executionInfo": {
     "elapsed": 441,
     "status": "ok",
     "timestamp": 1624110326220,
     "user": {
      "displayName": "Ankit Chaudhary",
      "photoUrl": "",
      "userId": "09325546582572869584"
     },
     "user_tz": -330
    },
    "id": "kln1QAOLe_Gr",
    "outputId": "e5a0172b-b88a-4028-883b-f0918edc67fc"
   },
   "outputs": [
    {
     "name": "stdout",
     "output_type": "stream",
     "text": [
      "(3, 4, 5, 'a', 'b', 'c')\n"
     ]
    }
   ],
   "source": [
    "tuple1=(3,4,5)\n",
    "tuple2=('a','b','c')\n",
    "l1=list(tuple1)\n",
    "l2=list(tuple2)\n",
    "l3=l1+l2\n",
    "tuple3=tuple(l3)\n",
    "print(tuple3)\n"
   ]
  },
  {
   "cell_type": "markdown",
   "metadata": {
    "id": "C7BdniSyrBJb"
   },
   "source": [
    "**[Slide No. 40]**\n",
    "\n",
    "6 .  Write a program to create the tuple and delete the items?"
   ]
  },
  {
   "cell_type": "code",
   "execution_count": 7,
   "metadata": {
    "colab": {
     "base_uri": "https://localhost:8080/"
    },
    "executionInfo": {
     "elapsed": 393,
     "status": "ok",
     "timestamp": 1624192671311,
     "user": {
      "displayName": "sai darshini",
      "photoUrl": "",
      "userId": "15530230778984429889"
     },
     "user_tz": -330
    },
    "id": "JnBgxEFEe_rL",
    "outputId": "011eaf64-247f-4817-c883-3e2bc5129711"
   },
   "outputs": [
    {
     "name": "stdout",
     "output_type": "stream",
     "text": [
      "(3, 5)\n"
     ]
    }
   ],
   "source": [
    "tuple1=(3,4,5)\n",
    "list1=list(tuple1)\n",
    "list1.remove(4)\n",
    "t1=tuple(list1)\n",
    "print(t1)"
   ]
  },
  {
   "cell_type": "code",
   "execution_count": null,
   "metadata": {
    "id": "p0aT3fOzVRad"
   },
   "outputs": [],
   "source": []
  },
  {
   "cell_type": "markdown",
   "metadata": {
    "id": "rbAjLzFyrBU1"
   },
   "source": [
    "**[Slide No. 40]**\n",
    "\n",
    "7. Write a program to delete  2 index value from  tuples?"
   ]
  },
  {
   "cell_type": "code",
   "execution_count": 10,
   "metadata": {
    "colab": {
     "base_uri": "https://localhost:8080/"
    },
    "executionInfo": {
     "elapsed": 453,
     "status": "ok",
     "timestamp": 1624112798617,
     "user": {
      "displayName": "sai darshini",
      "photoUrl": "",
      "userId": "15530230778984429889"
     },
     "user_tz": -330
    },
    "id": "cckHUdKnfAL7",
    "outputId": "64469e58-c0b3-4efd-c881-09da4b99d1d4"
   },
   "outputs": [
    {
     "name": "stdout",
     "output_type": "stream",
     "text": [
      "(4, 5)\n"
     ]
    }
   ],
   "source": [
    "tuple1=(4,5,6)\n",
    "list1=list(tuple1)\n",
    "list1.pop(2)\n",
    "tuple2=tuple(list1)\n",
    "print(tuple2)"
   ]
  },
  {
   "cell_type": "markdown",
   "metadata": {
    "id": "EmyErnscvJyV"
   },
   "source": [
    "**[Slide No. 40]**\n",
    "\n",
    "8. Check the output of \n",
    "tuple1 = (1, 2, 3, 4, 5)    \n",
    "\n",
    "using negative indexing print last two item of tuple\n",
    "\n",
    "using negative indexing print '4' from the tuple\n",
    "\n",
    "using negative indexing print all items of the list \n"
   ]
  },
  {
   "cell_type": "code",
   "execution_count": 14,
   "metadata": {
    "colab": {
     "base_uri": "https://localhost:8080/"
    },
    "executionInfo": {
     "elapsed": 477,
     "status": "ok",
     "timestamp": 1624113429494,
     "user": {
      "displayName": "sai darshini",
      "photoUrl": "",
      "userId": "15530230778984429889"
     },
     "user_tz": -330
    },
    "id": "IkQiPA4neVHN",
    "outputId": "7f627081-2788-4b9b-c672-f99e1d1b187a"
   },
   "outputs": [
    {
     "name": "stdout",
     "output_type": "stream",
     "text": [
      "([8, 5], 8, [1, 3, 6, 8, 5])\n"
     ]
    }
   ],
   "source": [
    "tuple1 = (1, 3, 6, 8, 5)\n",
    "list1=list(tuple1)\n",
    "a=list1[-2:]\n",
    "b=list1[-2]\n",
    "c=list1[-5:]\n",
    "list2=[a,b,c]\n",
    "tuple2=tuple(list2)\n",
    "print(tuple2)\n",
    "\n"
   ]
  },
  {
   "cell_type": "code",
   "execution_count": null,
   "metadata": {
    "id": "2vn9J1vQaGNT"
   },
   "outputs": [],
   "source": []
  }
 ],
 "metadata": {
  "colab": {
   "collapsed_sections": [],
   "name": "Tuple.ipynb",
   "provenance": []
  },
  "kernelspec": {
   "display_name": "Python 3",
   "language": "python",
   "name": "python3"
  },
  "language_info": {
   "codemirror_mode": {
    "name": "ipython",
    "version": 3
   },
   "file_extension": ".py",
   "mimetype": "text/x-python",
   "name": "python",
   "nbconvert_exporter": "python",
   "pygments_lexer": "ipython3",
   "version": "3.8.8"
  }
 },
 "nbformat": 4,
 "nbformat_minor": 1
}
